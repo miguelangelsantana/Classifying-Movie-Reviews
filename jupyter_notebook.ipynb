{
 "cells": [
  {
   "cell_type": "markdown",
   "metadata": {},
   "source": [
    "# Movie Review Text Classification\n",
    "### Classifying Positive and Negative Reviews with NLP\n",
    "\n",
    "**Author**: Miguel Santana\n",
    "\n",
    "Thank you for reviewing this repository. The author's contact info, sources and social media profiles are listed below under **further information.**\n",
    "\n",
    "The contents of this repository detail an analysis of 6000 movie reviews of which 3000 are positive and 3000 are negative. In this particular case, the text has been preprocessed and the labels are provided in order to assess performance. The analysis will provide insight into method's used by NLP professionals to evaluate text for businesses.\n",
    "\n",
    "#### Project Framework | OSEMN\n",
    "\n",
    "**Data processing and analysis is completed using the OSEMN framework. The structure includes: Obtaining the data, Scrubbing (Processing), Exploratory Data Analysis, Statistical Modeling and Interpretation of the Results.**\n",
    "\n",
    "#### The Data\n",
    "\n",
    "The dataset is originally sourced from Stanford Artificial Intelligence Laboratory (SAIL) but was provided via Udemy. The Udemy citation is available below under **sources.** Please visit [ai.stanford.edu](http://ai.stanford.edu/~amaas/data/sentiment/) for more information on this dataset. \n",
    "\n",
    "#### Import Libraries"
   ]
  },
  {
   "cell_type": "code",
   "execution_count": 1,
   "metadata": {
    "ExecuteTime": {
     "end_time": "2021-02-03T22:24:39.501234Z",
     "start_time": "2021-02-03T22:24:38.838912Z"
    }
   },
   "outputs": [],
   "source": [
    "import pandas as pd\n",
    "import numpy as np\n",
    "import matplotlib.pyplot as plt\n",
    "%matplotlib inline\n",
    "import seaborn as sns\n",
    "sns.set_style('white')"
   ]
  },
  {
   "cell_type": "code",
   "execution_count": 2,
   "metadata": {
    "ExecuteTime": {
     "end_time": "2021-02-03T22:24:39.725713Z",
     "start_time": "2021-02-03T22:24:39.502896Z"
    }
   },
   "outputs": [],
   "source": [
    "# Modeling Packages\n",
    "from sklearn.feature_extraction.text import CountVectorizer\n",
    "from sklearn.model_selection import train_test_split\n",
    "from sklearn.naive_bayes import MultinomialNB\n",
    "import sklearn.metrics as metrics\n",
    "from sklearn.metrics import confusion_matrix,classification_report,accuracy_score\n",
    "from sklearn.feature_extraction.text import TfidfTransformer\n",
    "from sklearn.feature_extraction.text import TfidfVectorizer\n",
    "from sklearn.pipeline import Pipeline\n",
    "from sklearn.svm import LinearSVC"
   ]
  },
  {
   "cell_type": "markdown",
   "metadata": {},
   "source": [
    "# Import Data"
   ]
  },
  {
   "cell_type": "code",
   "execution_count": 3,
   "metadata": {
    "ExecuteTime": {
     "end_time": "2021-02-03T22:24:39.784826Z",
     "start_time": "2021-02-03T22:24:39.727941Z"
    }
   },
   "outputs": [
    {
     "name": "stdout",
     "output_type": "stream",
     "text": [
      "<class 'pandas.core.frame.DataFrame'>\n",
      "RangeIndex: 6000 entries, 0 to 5999\n",
      "Data columns (total 2 columns):\n",
      " #   Column  Non-Null Count  Dtype \n",
      "---  ------  --------------  ----- \n",
      " 0   label   6000 non-null   object\n",
      " 1   review  5980 non-null   object\n",
      "dtypes: object(2)\n",
      "memory usage: 93.9+ KB\n",
      "None\n",
      "\n",
      "\n"
     ]
    },
    {
     "data": {
      "text/html": [
       "<div>\n",
       "<style scoped>\n",
       "    .dataframe tbody tr th:only-of-type {\n",
       "        vertical-align: middle;\n",
       "    }\n",
       "\n",
       "    .dataframe tbody tr th {\n",
       "        vertical-align: top;\n",
       "    }\n",
       "\n",
       "    .dataframe thead th {\n",
       "        text-align: right;\n",
       "    }\n",
       "</style>\n",
       "<table border=\"1\" class=\"dataframe\">\n",
       "  <thead>\n",
       "    <tr style=\"text-align: right;\">\n",
       "      <th></th>\n",
       "      <th>label</th>\n",
       "      <th>review</th>\n",
       "    </tr>\n",
       "  </thead>\n",
       "  <tbody>\n",
       "    <tr>\n",
       "      <th>0</th>\n",
       "      <td>pos</td>\n",
       "      <td>I loved this movie and will watch it again. Or...</td>\n",
       "    </tr>\n",
       "    <tr>\n",
       "      <th>1</th>\n",
       "      <td>pos</td>\n",
       "      <td>A warm, touching movie that has a fantasy-like...</td>\n",
       "    </tr>\n",
       "    <tr>\n",
       "      <th>2</th>\n",
       "      <td>pos</td>\n",
       "      <td>I was not expecting the powerful filmmaking ex...</td>\n",
       "    </tr>\n",
       "    <tr>\n",
       "      <th>3</th>\n",
       "      <td>neg</td>\n",
       "      <td>This so-called \"documentary\" tries to tell tha...</td>\n",
       "    </tr>\n",
       "    <tr>\n",
       "      <th>4</th>\n",
       "      <td>pos</td>\n",
       "      <td>This show has been my escape from reality for ...</td>\n",
       "    </tr>\n",
       "  </tbody>\n",
       "</table>\n",
       "</div>"
      ],
      "text/plain": [
       "  label                                             review\n",
       "0   pos  I loved this movie and will watch it again. Or...\n",
       "1   pos  A warm, touching movie that has a fantasy-like...\n",
       "2   pos  I was not expecting the powerful filmmaking ex...\n",
       "3   neg  This so-called \"documentary\" tries to tell tha...\n",
       "4   pos  This show has been my escape from reality for ..."
      ]
     },
     "execution_count": 3,
     "metadata": {},
     "output_type": "execute_result"
    }
   ],
   "source": [
    "df = pd.read_csv('moviereviews.tsv',sep='\\t')\n",
    "\n",
    "print(df.info())\n",
    "print('\\n')\n",
    "df.head(5)"
   ]
  },
  {
   "cell_type": "code",
   "execution_count": 4,
   "metadata": {
    "ExecuteTime": {
     "end_time": "2021-02-03T22:24:39.789245Z",
     "start_time": "2021-02-03T22:24:39.786716Z"
    }
   },
   "outputs": [
    {
     "name": "stdout",
     "output_type": "stream",
     "text": [
      "There are 6000 movie reviews in this dataset.\n"
     ]
    }
   ],
   "source": [
    "print(f'There are {len(df)} movie reviews in this dataset.')"
   ]
  },
  {
   "cell_type": "markdown",
   "metadata": {},
   "source": [
    "# Scrubbing | Data Cleaning\n",
    "### Whitespace Strings"
   ]
  },
  {
   "cell_type": "code",
   "execution_count": 5,
   "metadata": {
    "ExecuteTime": {
     "end_time": "2021-02-03T22:24:39.800000Z",
     "start_time": "2021-02-03T22:24:39.790676Z"
    }
   },
   "outputs": [],
   "source": [
    "# checking whitespace strings\n",
    "blanks = []\n",
    "\n",
    "# iterate through / check missing\n",
    "for ind,label,review in df.itertuples():\n",
    "    if type(review) == str: # if string\n",
    "        if review.isspace(): # check if whitespace\n",
    "            blanks.append(ind) # append index position"
   ]
  },
  {
   "cell_type": "code",
   "execution_count": 6,
   "metadata": {
    "ExecuteTime": {
     "end_time": "2021-02-03T22:24:39.803774Z",
     "start_time": "2021-02-03T22:24:39.801408Z"
    }
   },
   "outputs": [
    {
     "name": "stdout",
     "output_type": "stream",
     "text": [
      "There are 0 whitespace strings in the dataset.\n"
     ]
    }
   ],
   "source": [
    "# whitespace strings\n",
    "print(f'There are {len(blanks)} whitespace strings in the dataset.')"
   ]
  },
  {
   "cell_type": "code",
   "execution_count": 7,
   "metadata": {
    "ExecuteTime": {
     "end_time": "2021-02-03T22:24:39.806882Z",
     "start_time": "2021-02-03T22:24:39.805052Z"
    }
   },
   "outputs": [],
   "source": [
    "# # drop whitespace strings\n",
    "# df.drop(blanks,inplace=True)"
   ]
  },
  {
   "cell_type": "markdown",
   "metadata": {},
   "source": [
    "### Null Values"
   ]
  },
  {
   "cell_type": "code",
   "execution_count": 8,
   "metadata": {
    "ExecuteTime": {
     "end_time": "2021-02-03T22:24:39.815149Z",
     "start_time": "2021-02-03T22:24:39.810474Z"
    }
   },
   "outputs": [
    {
     "data": {
      "text/plain": [
       "label      0\n",
       "review    20\n",
       "dtype: int64"
      ]
     },
     "execution_count": 8,
     "metadata": {},
     "output_type": "execute_result"
    }
   ],
   "source": [
    "df.isnull().sum()"
   ]
  },
  {
   "cell_type": "code",
   "execution_count": 9,
   "metadata": {
    "ExecuteTime": {
     "end_time": "2021-02-03T22:24:39.825044Z",
     "start_time": "2021-02-03T22:24:39.817325Z"
    }
   },
   "outputs": [],
   "source": [
    "# drop null values\n",
    "df.dropna(inplace=True)"
   ]
  },
  {
   "cell_type": "markdown",
   "metadata": {},
   "source": [
    "# Exploratory Data Analysis\n",
    "#### Check Distribution of Classes"
   ]
  },
  {
   "cell_type": "code",
   "execution_count": 10,
   "metadata": {
    "ExecuteTime": {
     "end_time": "2021-02-03T22:24:39.831218Z",
     "start_time": "2021-02-03T22:24:39.826425Z"
    }
   },
   "outputs": [
    {
     "data": {
      "text/plain": [
       "pos    2990\n",
       "neg    2990\n",
       "Name: label, dtype: int64"
      ]
     },
     "execution_count": 10,
     "metadata": {},
     "output_type": "execute_result"
    }
   ],
   "source": [
    "df['label'].value_counts()"
   ]
  },
  {
   "cell_type": "markdown",
   "metadata": {},
   "source": [
    "<div class=\"alert alert-block alert-info\">\n",
    "\n",
    "The dataset has an even distribution of positive and negative reviews. This makes accuracy a great metric for our model analysis.\n",
    "\n",
    "</div>"
   ]
  },
  {
   "cell_type": "markdown",
   "metadata": {},
   "source": [
    "### Length of Reviews"
   ]
  },
  {
   "cell_type": "code",
   "execution_count": 11,
   "metadata": {
    "ExecuteTime": {
     "end_time": "2021-02-03T22:24:39.837008Z",
     "start_time": "2021-02-03T22:24:39.832634Z"
    }
   },
   "outputs": [],
   "source": [
    "# review length\n",
    "df['review length'] = df['review'].apply(len)"
   ]
  },
  {
   "cell_type": "code",
   "execution_count": 12,
   "metadata": {
    "ExecuteTime": {
     "end_time": "2021-02-03T22:24:40.341008Z",
     "start_time": "2021-02-03T22:24:39.838342Z"
    }
   },
   "outputs": [
    {
     "data": {
      "image/png": "[encoded data removed]",
      "text/plain": [
       "<Figure size 648x360 with 2 Axes>"
      ]
     },
     "metadata": {
      "needs_background": "light"
     },
     "output_type": "display_data"
    }
   ],
   "source": [
    "# facet grid - text length \n",
    "g = sns.FacetGrid(df,col='label',height=5,aspect=.9)\n",
    "g.map(plt.hist,'review length',bins=35);\n",
    "# g.savefig('lengthofreviews.jpg',dpi=200,bbox_inches='tight')"
   ]
  },
  {
   "cell_type": "markdown",
   "metadata": {},
   "source": [
    "<div class=\"alert alert-block alert-info\">\n",
    "\n",
    "The distribution of review lengths is approximately the same for negative and positive reviews.\n",
    "\n",
    "</div>"
   ]
  },
  {
   "cell_type": "markdown",
   "metadata": {},
   "source": [
    "### Positive vs. Negative"
   ]
  },
  {
   "cell_type": "code",
   "execution_count": 13,
   "metadata": {
    "ExecuteTime": {
     "end_time": "2021-02-03T22:24:40.458194Z",
     "start_time": "2021-02-03T22:24:40.342486Z"
    }
   },
   "outputs": [
    {
     "data": {
      "image/png": "[encoded data removed]",
      "text/plain": [
       "<Figure size 648x432 with 1 Axes>"
      ]
     },
     "metadata": {
      "needs_background": "light"
     },
     "output_type": "display_data"
    }
   ],
   "source": [
    "fig, ax = plt.subplots()\n",
    "fig.set_size_inches(9,6)\n",
    "sns.boxplot(x='label',y='review length',data=df,palette='rocket');\n",
    "# fig.savefig('positivenegativelength.jpg',dpi=200,bbox_inches='tight')"
   ]
  },
  {
   "cell_type": "code",
   "execution_count": 14,
   "metadata": {
    "ExecuteTime": {
     "end_time": "2021-02-03T22:24:40.560721Z",
     "start_time": "2021-02-03T22:24:40.460260Z"
    }
   },
   "outputs": [
    {
     "data": {
      "image/png": "[encoded data removed]",
      "text/plain": [
       "<Figure size 648x432 with 1 Axes>"
      ]
     },
     "metadata": {
      "needs_background": "light"
     },
     "output_type": "display_data"
    }
   ],
   "source": [
    "# number of occurances per pos/neg\n",
    "fig, ax = plt.subplots()\n",
    "fig.set_size_inches(9,6)\n",
    "sns.countplot(x='label',data=df,palette='rocket');\n",
    "# fig.savefig('countposneg.jpg',dpi=200,bbox_inches='tight')"
   ]
  },
  {
   "cell_type": "markdown",
   "metadata": {},
   "source": [
    "## Model Preparation\n",
    "### Separating Features & Target "
   ]
  },
  {
   "cell_type": "code",
   "execution_count": 15,
   "metadata": {
    "ExecuteTime": {
     "end_time": "2021-02-03T22:24:40.565058Z",
     "start_time": "2021-02-03T22:24:40.562425Z"
    }
   },
   "outputs": [],
   "source": [
    "# feature and target variable\n",
    "X = df['review'] # feature\n",
    "y = df['label'] # target"
   ]
  },
  {
   "cell_type": "code",
   "execution_count": 16,
   "metadata": {
    "ExecuteTime": {
     "end_time": "2021-02-03T22:24:41.152169Z",
     "start_time": "2021-02-03T22:24:40.566901Z"
    }
   },
   "outputs": [],
   "source": [
    "cv = CountVectorizer() # instantiate\n",
    "# fit transform X\n",
    "X = cv.fit_transform(X) # fit the model"
   ]
  },
  {
   "cell_type": "markdown",
   "metadata": {},
   "source": [
    "### Test | Train Split"
   ]
  },
  {
   "cell_type": "code",
   "execution_count": 17,
   "metadata": {
    "ExecuteTime": {
     "end_time": "2021-02-03T22:24:41.161395Z",
     "start_time": "2021-02-03T22:24:41.153863Z"
    }
   },
   "outputs": [],
   "source": [
    "X_train, X_test, y_train, y_test = train_test_split(X, y, test_size=0.3, random_state=42)"
   ]
  },
  {
   "cell_type": "markdown",
   "metadata": {},
   "source": [
    "#### Preparing for Visualizations"
   ]
  },
  {
   "cell_type": "code",
   "execution_count": 18,
   "metadata": {
    "ExecuteTime": {
     "end_time": "2021-02-03T22:24:41.167601Z",
     "start_time": "2021-02-03T22:24:41.162733Z"
    }
   },
   "outputs": [],
   "source": [
    "def model_visuals (model, X_test, y_test):\n",
    "    '''Plots the confusion matrix and ROC-AUC plot'''\n",
    "    fig, axes = plt.subplots(figsize = (12, 6), ncols = 2)  # confusion matrix\n",
    "    metrics.plot_confusion_matrix(model, X_test, y_test, normalize = 'true', \n",
    "                          cmap = 'Blues', ax = axes[0])\n",
    "    axes[0].set_title('Confusion Matrix');\n",
    "    # ROC-AUC Curve\n",
    "    roc_auc = metrics.plot_roc_curve(model, X_test, y_test,ax=axes[1])\n",
    "    axes[1].plot([0,1],[0,1],ls=':')\n",
    "    axes[1].set_title('ROC-AUC Plot')\n",
    "    axes[1].grid()\n",
    "    axes[1].legend()\n",
    "#     fig.savefig('_modelvis.jpg',dpi=200,bbox_inches='tight')\n",
    "    fig.tight_layout()\n",
    "    plt.show()"
   ]
  },
  {
   "cell_type": "markdown",
   "metadata": {},
   "source": [
    "# Statistical Modeling \n",
    "### MultinomialNB Classifier"
   ]
  },
  {
   "cell_type": "code",
   "execution_count": 19,
   "metadata": {
    "ExecuteTime": {
     "end_time": "2021-02-03T22:24:41.184951Z",
     "start_time": "2021-02-03T22:24:41.169135Z"
    }
   },
   "outputs": [
    {
     "data": {
      "text/plain": [
       "MultinomialNB()"
      ]
     },
     "execution_count": 19,
     "metadata": {},
     "output_type": "execute_result"
    }
   ],
   "source": [
    "nb = MultinomialNB() # instantiate\n",
    "nb.fit(X_train,y_train) # fit the data"
   ]
  },
  {
   "cell_type": "markdown",
   "metadata": {},
   "source": [
    "#### Predictions and Evaluations"
   ]
  },
  {
   "cell_type": "code",
   "execution_count": 20,
   "metadata": {
    "ExecuteTime": {
     "end_time": "2021-02-03T22:24:41.589037Z",
     "start_time": "2021-02-03T22:24:41.186622Z"
    },
    "scrolled": false
   },
   "outputs": [
    {
     "name": "stdout",
     "output_type": "stream",
     "text": [
      "              precision    recall  f1-score   support\n",
      "\n",
      "         neg       0.90      0.92      0.91       899\n",
      "         pos       0.92      0.90      0.91       895\n",
      "\n",
      "    accuracy                           0.91      1794\n",
      "   macro avg       0.91      0.91      0.91      1794\n",
      "weighted avg       0.91      0.91      0.91      1794\n",
      "\n"
     ]
    },
    {
     "data": {
      "image/png": "[encoded data removed]",
      "text/plain": [
       "<Figure size 864x432 with 3 Axes>"
      ]
     },
     "metadata": {
      "needs_background": "light"
     },
     "output_type": "display_data"
    },
    {
     "name": "stdout",
     "output_type": "stream",
     "text": [
      "\n",
      "\n",
      "The overall accuracy score is 0.9091415830546266\n"
     ]
    }
   ],
   "source": [
    "predictions = nb.predict(X_test)\n",
    "\n",
    "print(classification_report(y_test,predictions))\n",
    "model_visuals (nb, X_test, y_test) # class report / plots\n",
    "print('\\n')\n",
    "# Overall accuracy\n",
    "acc = accuracy_score(y_test,predictions)\n",
    "print(f'The overall accuracy score is {acc}')"
   ]
  },
  {
   "cell_type": "markdown",
   "metadata": {},
   "source": [
    "### LinearSVC Classifier"
   ]
  },
  {
   "cell_type": "code",
   "execution_count": 21,
   "metadata": {
    "ExecuteTime": {
     "end_time": "2021-02-03T22:24:42.017778Z",
     "start_time": "2021-02-03T22:24:41.590769Z"
    }
   },
   "outputs": [
    {
     "name": "stderr",
     "output_type": "stream",
     "text": [
      "/Users/miguelsantana/opt/anaconda3/envs/learn-env/lib/python3.6/site-packages/sklearn/svm/_base.py:977: ConvergenceWarning: Liblinear failed to converge, increase the number of iterations.\n",
      "  \"the number of iterations.\", ConvergenceWarning)\n"
     ]
    },
    {
     "data": {
      "text/plain": [
       "LinearSVC()"
      ]
     },
     "execution_count": 21,
     "metadata": {},
     "output_type": "execute_result"
    }
   ],
   "source": [
    "svc = LinearSVC() # instantiate\n",
    "svc.fit(X_train,y_train) # fit the data"
   ]
  },
  {
   "cell_type": "markdown",
   "metadata": {},
   "source": [
    "#### Predictions and Evaluations"
   ]
  },
  {
   "cell_type": "code",
   "execution_count": 22,
   "metadata": {
    "ExecuteTime": {
     "end_time": "2021-02-03T22:24:42.370690Z",
     "start_time": "2021-02-03T22:24:42.019398Z"
    }
   },
   "outputs": [
    {
     "name": "stdout",
     "output_type": "stream",
     "text": [
      "              precision    recall  f1-score   support\n",
      "\n",
      "         neg       0.91      0.90      0.90       899\n",
      "         pos       0.90      0.91      0.90       895\n",
      "\n",
      "    accuracy                           0.90      1794\n",
      "   macro avg       0.90      0.90      0.90      1794\n",
      "weighted avg       0.90      0.90      0.90      1794\n",
      "\n"
     ]
    },
    {
     "data": {
      "image/png": "[encoded data removed]",
      "text/plain": [
       "<Figure size 864x432 with 3 Axes>"
      ]
     },
     "metadata": {
      "needs_background": "light"
     },
     "output_type": "display_data"
    },
    {
     "name": "stdout",
     "output_type": "stream",
     "text": [
      "\n",
      "\n",
      "The overall accuracy score is 0.9024526198439242\n"
     ]
    }
   ],
   "source": [
    "predictions = svc.predict(X_test)\n",
    "\n",
    "print(classification_report(y_test,predictions))\n",
    "model_visuals (svc, X_test, y_test) # class report / plots\n",
    "print('\\n')\n",
    "# Overall accuracy\n",
    "acc = accuracy_score(y_test,predictions)\n",
    "print(f'The overall accuracy score is {acc}')"
   ]
  },
  {
   "cell_type": "markdown",
   "metadata": {},
   "source": [
    "<div class=\"alert alert-block alert-info\">\n",
    "\n",
    "Both models did really well. Let's try to improve performance using TF-IDF through a pipeline.\n",
    "\n",
    "</div>"
   ]
  },
  {
   "cell_type": "markdown",
   "metadata": {},
   "source": [
    "### Pipeline | TF-IDF\n",
    "#### Feature Selection | Test Train Split"
   ]
  },
  {
   "cell_type": "code",
   "execution_count": 23,
   "metadata": {
    "ExecuteTime": {
     "end_time": "2021-02-03T22:24:42.378587Z",
     "start_time": "2021-02-03T22:24:42.375849Z"
    }
   },
   "outputs": [],
   "source": [
    "# feature and target variable / old data already vectorized\n",
    "X = df['review']\n",
    "y = df['label']"
   ]
  },
  {
   "cell_type": "code",
   "execution_count": 24,
   "metadata": {
    "ExecuteTime": {
     "end_time": "2021-02-03T22:24:42.385860Z",
     "start_time": "2021-02-03T22:24:42.380618Z"
    }
   },
   "outputs": [],
   "source": [
    "X_train, X_test, y_train, y_test = train_test_split(X, y, test_size=0.3, random_state=42)"
   ]
  },
  {
   "cell_type": "markdown",
   "metadata": {},
   "source": [
    "## Final Model"
   ]
  },
  {
   "cell_type": "code",
   "execution_count": 25,
   "metadata": {
    "ExecuteTime": {
     "end_time": "2021-02-03T22:24:42.852134Z",
     "start_time": "2021-02-03T22:24:42.387183Z"
    }
   },
   "outputs": [
    {
     "data": {
      "text/plain": [
       "Pipeline(steps=[('tfidf', TfidfVectorizer()), ('svc', LinearSVC())])"
      ]
     },
     "execution_count": 25,
     "metadata": {},
     "output_type": "execute_result"
    }
   ],
   "source": [
    "# Creating a pipeline\n",
    "pipe = Pipeline([\n",
    "    ('tfidf',TfidfVectorizer()), # vectorize / weighted scores\n",
    "    ('svc',LinearSVC())]) # fit model\n",
    "\n",
    "pipe.fit(X_train,y_train)"
   ]
  },
  {
   "cell_type": "markdown",
   "metadata": {},
   "source": [
    "#### Predictions and Evaluations"
   ]
  },
  {
   "cell_type": "code",
   "execution_count": 26,
   "metadata": {
    "ExecuteTime": {
     "end_time": "2021-02-03T22:24:43.068687Z",
     "start_time": "2021-02-03T22:24:42.853915Z"
    }
   },
   "outputs": [
    {
     "name": "stdout",
     "output_type": "stream",
     "text": [
      "              precision    recall  f1-score   support\n",
      "\n",
      "         neg       0.93      0.91      0.92       899\n",
      "         pos       0.91      0.94      0.92       895\n",
      "\n",
      "    accuracy                           0.92      1794\n",
      "   macro avg       0.92      0.92      0.92      1794\n",
      "weighted avg       0.92      0.92      0.92      1794\n",
      "\n",
      "\n",
      "\n",
      "The overall accuracy score is 0.9241917502787068\n"
     ]
    }
   ],
   "source": [
    "predictions = pipe.predict(X_test)\n",
    "\n",
    "print(classification_report(y_test,predictions))\n",
    "print('\\n')\n",
    "# Overall accuracy\n",
    "acc = accuracy_score(y_test,predictions)\n",
    "print(f'The overall accuracy score is {acc}')"
   ]
  },
  {
   "cell_type": "markdown",
   "metadata": {},
   "source": [
    "<div class=\"alert alert-block alert-info\">\n",
    "\n",
    "The pipeline out performed the first two models but the scores were relatively close.\n",
    "\n",
    "</div>"
   ]
  },
  {
   "cell_type": "markdown",
   "metadata": {},
   "source": [
    "# Interpreting Results | Used Cases\n",
    "\n",
    "The text classifier model was able to predict positive and negative reviews with 92% accuracy. While this dataset is not representative of something that might be seen in a real work environment, (due to the perfect class balance and predetermined labels) the project shows the potential for application in business. In theory, a web scraper could be built to search for movie reviews which could be processed by our classifier to offer additional insight into the overall opinion of a film. "
   ]
  },
  {
   "cell_type": "markdown",
   "metadata": {},
   "source": [
    "### Future Work\n",
    "\n",
    "Future work should include web scraping of additional sources to get a broader view of the classifier's potential with respect to more data from many more sources. In future projects, sentiment analysis in combination with text classification should be applied to these larger and more robust data sets. \n",
    "\n",
    "#### Further Information\n",
    "\n",
    "For any additional questions, please reach out via email at santana2.miguel@gmail.com, on [LinkedIn](https://www.linkedin.com/in/miguel-angel-santana-ii-mba-51467276/) or on [Twitter.](https://twitter.com/msantana_ds)\n",
    "\n",
    "#### Sources\n",
    "\n",
    "Additional analysis, notes and file sources can be found on Udemy. \n",
    "\n",
    "* Course Name: NLP - Natural Language Processing by Jose Portilla"
   ]
  },
  {
   "cell_type": "code",
   "execution_count": null,
   "metadata": {},
   "outputs": [],
   "source": []
  }
 ],
 "metadata": {
  "kernelspec": {
   "display_name": "Python [conda env:learn-env] *",
   "language": "python",
   "name": "conda-env-learn-env-py"
  },
  "language_info": {
   "codemirror_mode": {
    "name": "ipython",
    "version": 3
   },
   "file_extension": ".py",
   "mimetype": "text/x-python",
   "name": "python",
   "nbconvert_exporter": "python",
   "pygments_lexer": "ipython3",
   "version": "3.6.9"
  },
  "toc": {
   "base_numbering": 1,
   "nav_menu": {},
   "number_sections": true,
   "sideBar": true,
   "skip_h1_title": false,
   "title_cell": "Table of Contents",
   "title_sidebar": "Contents",
   "toc_cell": false,
   "toc_position": {
    "height": "calc(100% - 180px)",
    "left": "10px",
    "top": "150px",
    "width": "165px"
   },
   "toc_section_display": true,
   "toc_window_display": true
  }
 },
 "nbformat": 4,
 "nbformat_minor": 2
}
